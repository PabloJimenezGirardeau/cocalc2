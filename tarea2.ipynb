{
 "cells": [
  {
   "cell_type": "code",
   "execution_count": 3,
   "metadata": {
    "collapsed": false
   },
   "outputs": [
    {
     "name": "stdout",
     "output_type": "stream",
     "text": [
      "Floor de -3.56: -4\n",
      "Ceiling de -3.56: -3\n"
     ]
    }
   ],
   "source": [
    "#Calcula el floor y el ceiling de -3.56\n",
    "numero= -3.56 \n",
    "aprox_floor = floor(numero)\n",
    "aprox_ceiling = ceil(numero)\n",
    "print(\"Floor de -3.56:\", aprox_floor)\n",
    "print(\"Ceiling de -3.56:\", aprox_ceiling) "
   ]
  },
  {
   "cell_type": "code",
   "execution_count": 9,
   "metadata": {
    "collapsed": false
   },
   "outputs": [
    {
     "name": "stdout",
     "output_type": "stream",
     "text": [
      "el log de 100 en base es:  4.605170185988092\n",
      "el log de 100 en base 10 es:  2.0\n",
      "el cociente de ambos es:  2.302585092994046\n"
     ]
    }
   ],
   "source": [
    "'''Calcula el logaritmo en base e de 100. Calcula el logaritmo en base e de 100, calcula el logaritmo en base 10 de 100, después calcula el cociente.'''\n",
    "def logaritmo (arg, base):\n",
    "    return float (log(arg,base))\n",
    "              \n",
    "logaritmo1= logaritmo (100, e)\n",
    "logaritmo2 = logaritmo (100, 10)\n",
    "cociente = ( logaritmo1 / logaritmo2)\n",
    "#es notable que el log de 100 en base 10 es 2, por lo tanto el resultado es (log de 100 en base 2 / e)\n",
    "print (\"el log de 100 en base es: \" , logaritmo1) \n",
    "print (\"el log de 100 en base 10 es: \" , logaritmo2)\n",
    "print (\"el cociente de ambos es: \" , cociente)\n",
    "\n",
    "\n"
   ]
  },
  {
   "cell_type": "code",
   "execution_count": 13,
   "metadata": {
    "collapsed": false
   },
   "outputs": [
    {
     "name": "stdout",
     "output_type": "stream",
     "text": [
      "el logaritmo de 64 en base 2 es:  6\n"
     ]
    }
   ],
   "source": [
    "#Calcula el logaritmo en base 2 de 64.\n",
    "def logaritmo (arg, base):\n",
    "    return float (log(arg,base))\n",
    "logaritmo = logaritmo (64,2)\n",
    "print(\"el logaritmo de 64 en base 2 es: \", int(logaritmo))"
   ]
  },
  {
   "cell_type": "code",
   "execution_count": 50,
   "metadata": {
    "collapsed": false
   },
   "outputs": [
    {
     "name": "stdout",
     "output_type": "stream",
     "text": [
      "1\n"
     ]
    }
   ],
   "source": [
    "#Compara e^iπ con una aproximación numérica, usando pi.n().\n",
    "import math\n",
    "e_elevado_iπ = ((math.e)**(complex()*pi))\n",
    "#print ((e_elevado_iπ).n(digits=1))\n",
    "print (e_elevado_iπ)\n",
    "\n"
   ]
  },
  {
   "cell_type": "code",
   "execution_count": 0,
   "metadata": {
    "collapsed": false
   },
   "outputs": [
   ],
   "source": [
   ]
  },
  {
   "cell_type": "code",
   "execution_count": 52,
   "metadata": {
    "collapsed": false
   },
   "outputs": [
    {
     "name": "stdout",
     "output_type": "stream",
     "text": [
      "el resultado de (sin (π/2)) es : 1\n",
      "el resultado de (cot (π/4) es : 1\n",
      "el resultado de csc (π/16) es:  5.125830895483013\n"
     ]
    }
   ],
   "source": [
    "#Calcula sin (π/2), cot (π/4) i csc (π/16).\n",
    "\n",
    "operacion1 = int(sin(π/2))\n",
    "print (\"el resultado de (sin (π/2)) es :\" , operacion1)\n",
    "\n",
    "operacion2 = int(cot (π/4)) \n",
    "print (\"el resultado de (cot (π/4) es :\" , operacion2)\n",
    "\n",
    "operacion3 = float(csc(π/16))\n",
    "print (\"el resultado de csc (π/16) es: \" , operacion3)"
   ]
  },
  {
   "cell_type": "code",
   "execution_count": 0,
   "metadata": {
    "collapsed": false
   },
   "outputs": [
   ],
   "source": [
   ]
  }
 ],
 "metadata": {
  "kernelspec": {
   "argv": [
    "sage-10.2",
    "--python",
    "-m",
    "sage.repl.ipython_kernel",
    "--matplotlib=inline",
    "-f",
    "{connection_file}"
   ],
   "display_name": "SageMath 10.2",
   "env": {
   },
   "language": "sagemath",
   "metadata": {
    "cocalc": {
     "description": "Open-source mathematical software system",
     "priority": 2,
     "url": "https://www.sagemath.org/"
    }
   },
   "name": "sage-10.2",
   "resource_dir": "/ext/jupyter/kernels/sage-10.2"
  }
 },
 "nbformat": 4,
 "nbformat_minor": 4
}